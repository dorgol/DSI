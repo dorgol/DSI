{
 "cells": [
  {
   "cell_type": "markdown",
   "metadata": {},
   "source": [
    "# Prop 10: The One About Rent Control\n",
    "\n",
    "<img src=\"friends_apt.jpg\">"
   ]
  },
  {
   "cell_type": "markdown",
   "metadata": {},
   "source": [
    "# What does it do?\n",
    "\n",
    "\n",
    "- Repeals a 23-year old law, **Costa-Hawkins**, strictly limiting the use of rent control in California. \n",
    "\n",
    "\n",
    "- **Costa-Hawkins** prohibits rent control on single family homes, on condominiums, and new rental units built after the law was passed in 1995.\n",
    "\n",
    "    + Some cities already had rent control laws and it affects them differently. In San Francisco only construction older than 1979 can be rent controlled, and older than 1980 in Oakland and Berkeley, the years those cities passed their rent control laws. In the City of Los Angeles it's 1978. \n",
    "    + Only 15 California cities have rent control regulations on the books\n",
    "    + More than a dozen cities in California have some form of rent control, including Alameda, Berkeley, Beverly Hills, East Palo Alto, Hayward, Los Angeles, Los Gatos, Mountain View, Oakland, Palm Springs, Richmond, San Francisco, San Jose, Santa Monica and West Hollywood.  <!--http://www.capradio.org/articles/2018/06/20/rent-control-is-coming-to-californias-november-ballot-heres-whats-at-stake/-->\n",
    "\n",
    "- A yes vote on Prop 10 **DOES NOT create new rent control lows**. It **ALLOWS cities and counties to write their own**.\n",
    "\n",
    "    + Rent control laws can limit rent increases for existing tenants, implement vacancy controls to limit rent increases when a tenants move out, and provide tenant protections against eviction.\n",
    "    + Rent-control policies may not violate landlords’ right to a fair financial return on their rental property, i.e., rent control is not a rent freeze. For example, in Los Angeles, rent-controlled apartments face increases of 3 to 8 percent annually. It's tied to the Consumer Price Index; this year it’s 3 percent.\n",
    "\n",
    "sources:    \n",
    "http://www.braintrustlive.com/blog/2018/10/18/2018-general-election-ca-prop-cheat-sheet\n",
    "https://en.wikipedia.org/wiki/Costa%E2%80%93Hawkins_Rental_Housing_Act\n",
    "https://la.curbed.com/2018/6/4/17302800/rent-control-los-angeles-rules-guide\n",
    "https://ballotpedia.org/California_Proposition_10,_Local_Rent_Control_Initiative_(2018)"
   ]
  },
  {
   "cell_type": "markdown",
   "metadata": {},
   "source": [
    "# For/Against\n",
    "\n",
    "- **Supporters** include\n",
    "    + California Democratic Party\n",
    "    + Democratic Socialists of America - Los Angeles & Sacremento chapters\n",
    "    + Mayor of Los Angeles Eric Garcetti\n",
    "    + Unions AFSCME and SEIU California.\n",
    "\n",
    "    \n",
    "- Arguments in favor are that it prevents displacement and homelessness and facilitates local control.\n",
    "\n",
    "    \n",
    "\n",
    "- **Opposition** include\n",
    "    + California Republican Party \n",
    "    + California Libertarian Party\n",
    "    + CA gubernatorial candidates Lt. Gov. Gavin Newsom (D) and John Cox (R).\n",
    "    + California Chamber of Commerce\n",
    "\n",
    "    \n",
    "- Arguments against are that it would deter new construction and \"the only way to solve the housing crisis is to build more\".\n"
   ]
  },
  {
   "cell_type": "markdown",
   "metadata": {},
   "source": [
    "# Spending\n",
    "<img src=\"prop10spending.png\">\n",
    "\n",
    "<img src=\"forcash.png\">\n",
    "\n",
    "<img src=\"oppositioncash.png\">"
   ]
  },
  {
   "cell_type": "markdown",
   "metadata": {},
   "source": [
    "# Visualization of rental prices by age of unit\n",
    " - Compare 70s vs. 80s to 80s vs. 90s since most rent control laws affect pre-1980 property\n",
    " - Many limitations: Most of CA isn't rent-controlled and decade-to-decade differences are counfounded with changes in housing stock being built. \n",
    "     + No way to control for that in Census data or shrink to city or census block level.\n",
    " - Chance to experiment with Bokeh and censusdata package in Python \n",
    " "
   ]
  },
  {
   "cell_type": "markdown",
   "metadata": {},
   "source": [
    "# I. Setup\n",
    "## First install some packages\n",
    "\n",
    "`python3.7 -m pip install censusdata`    \n",
    "`python3.7 -m pip install hide_code`    \n",
    "`python3.7 -m pip install bokeh`    \n",
    "`python3.7 -m pip install cython`\n",
    "`python3.7 -m pip install git+https://github.com/jswhit/pyproj.git`\n",
    "`python3.7 -m pip install geopandas`  \n"
   ]
  },
  {
   "cell_type": "code",
   "execution_count": 978,
   "metadata": {},
   "outputs": [
    {
     "name": "stdout",
     "output_type": "stream",
     "text": [
      "(None, '/usr/local/lib/python3.7/site-packages/censusdata', ('', '', 5))\n"
     ]
    }
   ],
   "source": [
    "import censusdata as cd\n",
    "import pandas as pd\n",
    "import imp\n",
    "import numpy as np\n",
    "\n",
    "print(imp.find_module('censusdata'))\n",
    "pd.set_option('display.expand_frame_repr', False)\n",
    "pd.set_option('display.precision', 2)"
   ]
  },
  {
   "cell_type": "markdown",
   "metadata": {},
   "source": [
    "## Find yolo county"
   ]
  },
  {
   "cell_type": "code",
   "execution_count": 1160,
   "metadata": {},
   "outputs": [
    {
     "name": "stdout",
     "output_type": "stream",
     "text": [
      "Alpine County, California\n"
     ]
    },
    {
     "data": {
      "text/plain": [
       "censusgeo((('state', '06'), ('county', '113')))"
      ]
     },
     "execution_count": 1160,
     "metadata": {},
     "output_type": "execute_result"
    }
   ],
   "source": [
    "#found yolo\n",
    "tmp = cd.geographies(cd.censusgeo([('state', '06'), ('county', '*')]), 'acs5', 2015)\n",
    "print(list(tmp.keys())[1])\n",
    "tmp['Yolo County, California']"
   ]
  },
  {
   "cell_type": "markdown",
   "metadata": {},
   "source": [
    "# II. Get data\n",
    "\n",
    "## Can I get median rent by year house built at the county level?\n",
    "\n",
    "I can find the right table using the censusdata search function"
   ]
  },
  {
   "cell_type": "code",
   "execution_count": 1161,
   "metadata": {},
   "outputs": [
    {
     "data": {
      "text/plain": [
       "OrderedDict([('B25111_001E',\n",
       "              {'label': 'Median gross rent --!!Total:',\n",
       "               'concept': 'B25111. Median Gross Rent by Year Structure Built',\n",
       "               'predicateType': 'int'}),\n",
       "             ('B25111_001M',\n",
       "              {'label': 'Margin of Error for!!Median gross rent --!!Total:',\n",
       "               'concept': 'B25111. Median Gross Rent by Year Structure Built',\n",
       "               'predicateType': 'int'}),\n",
       "             ('B25111_002E',\n",
       "              {'label': 'Median gross rent --!! Built 2014 or later',\n",
       "               'concept': 'B25111. Median Gross Rent by Year Structure Built',\n",
       "               'predicateType': 'int'}),\n",
       "             ('B25111_002M',\n",
       "              {'label': 'Margin of Error for!!Median gross rent --!! Built 2014 or later',\n",
       "               'concept': 'B25111. Median Gross Rent by Year Structure Built',\n",
       "               'predicateType': 'int'}),\n",
       "             ('B25111_003E',\n",
       "              {'label': 'Median gross rent --!!Built 2010 to 2013',\n",
       "               'concept': 'B25111. Median Gross Rent by Year Structure Built',\n",
       "               'predicateType': 'int'}),\n",
       "             ('B25111_003M',\n",
       "              {'label': 'Margin of Error for!!Median gross rent --!!Built 2010 to 2013',\n",
       "               'concept': 'B25111. Median Gross Rent by Year Structure Built',\n",
       "               'predicateType': 'int'}),\n",
       "             ('B25111_004E',\n",
       "              {'label': 'Median gross rent --!!Built 2010 to 2013!!Built 2000 to 2009',\n",
       "               'concept': 'B25111. Median Gross Rent by Year Structure Built',\n",
       "               'predicateType': 'int'}),\n",
       "             ('B25111_004M',\n",
       "              {'label': 'Margin of Error for!!Median gross rent --!!Built 2010 to 2013!!Built 2000 to 2009',\n",
       "               'concept': 'B25111. Median Gross Rent by Year Structure Built',\n",
       "               'predicateType': 'int'}),\n",
       "             ('B25111_005E',\n",
       "              {'label': 'Median gross rent --!!Built 2010 to 2013!!Built 1990 to 1999',\n",
       "               'concept': 'B25111. Median Gross Rent by Year Structure Built',\n",
       "               'predicateType': 'int'}),\n",
       "             ('B25111_005M',\n",
       "              {'label': 'Margin of Error for!!Median gross rent --!!Built 2010 to 2013!!Built 1990 to 1999',\n",
       "               'concept': 'B25111. Median Gross Rent by Year Structure Built',\n",
       "               'predicateType': 'int'}),\n",
       "             ('B25111_006E',\n",
       "              {'label': 'Median gross rent --!!Built 2010 to 2013!!Built 1980 to 1989',\n",
       "               'concept': 'B25111. Median Gross Rent by Year Structure Built',\n",
       "               'predicateType': 'int'}),\n",
       "             ('B25111_006M',\n",
       "              {'label': 'Margin of Error for!!Median gross rent --!!Built 2010 to 2013!!Built 1980 to 1989',\n",
       "               'concept': 'B25111. Median Gross Rent by Year Structure Built',\n",
       "               'predicateType': 'int'}),\n",
       "             ('B25111_007E',\n",
       "              {'label': 'Median gross rent --!!Built 2010 to 2013!!Built 1970 to 1979',\n",
       "               'concept': 'B25111. Median Gross Rent by Year Structure Built',\n",
       "               'predicateType': 'int'}),\n",
       "             ('B25111_007M',\n",
       "              {'label': 'Margin of Error for!!Median gross rent --!!Built 2010 to 2013!!Built 1970 to 1979',\n",
       "               'concept': 'B25111. Median Gross Rent by Year Structure Built',\n",
       "               'predicateType': 'int'}),\n",
       "             ('B25111_008E',\n",
       "              {'label': 'Median gross rent --!!Built 2010 to 2013!!Built 1960 to 1969',\n",
       "               'concept': 'B25111. Median Gross Rent by Year Structure Built',\n",
       "               'predicateType': 'int'}),\n",
       "             ('B25111_008M',\n",
       "              {'label': 'Margin of Error for!!Median gross rent --!!Built 2010 to 2013!!Built 1960 to 1969',\n",
       "               'concept': 'B25111. Median Gross Rent by Year Structure Built',\n",
       "               'predicateType': 'int'}),\n",
       "             ('B25111_009E',\n",
       "              {'label': 'Median gross rent --!!Built 2010 to 2013!!Built 1950 to 1959',\n",
       "               'concept': 'B25111. Median Gross Rent by Year Structure Built',\n",
       "               'predicateType': 'int'}),\n",
       "             ('B25111_009M',\n",
       "              {'label': 'Margin of Error for!!Median gross rent --!!Built 2010 to 2013!!Built 1950 to 1959',\n",
       "               'concept': 'B25111. Median Gross Rent by Year Structure Built',\n",
       "               'predicateType': 'int'}),\n",
       "             ('B25111_010E',\n",
       "              {'label': 'Median gross rent --!!Built 2010 to 2013!!Built 1940 to 1949',\n",
       "               'concept': 'B25111. Median Gross Rent by Year Structure Built',\n",
       "               'predicateType': 'int'}),\n",
       "             ('B25111_010M',\n",
       "              {'label': 'Margin of Error for!!Median gross rent --!!Built 2010 to 2013!!Built 1940 to 1949',\n",
       "               'concept': 'B25111. Median Gross Rent by Year Structure Built',\n",
       "               'predicateType': 'int'}),\n",
       "             ('B25111_011E',\n",
       "              {'label': 'Median gross rent --!!Built 2010 to 2013!!Built 1939 or earlier',\n",
       "               'concept': 'B25111. Median Gross Rent by Year Structure Built',\n",
       "               'predicateType': 'int'}),\n",
       "             ('B25111_011M',\n",
       "              {'label': 'Margin of Error for!!Median gross rent --!!Built 2010 to 2013!!Built 1939 or earlier',\n",
       "               'concept': 'B25111. Median Gross Rent by Year Structure Built',\n",
       "               'predicateType': 'int'})])"
      ]
     },
     "execution_count": 1161,
     "metadata": {},
     "output_type": "execute_result"
    }
   ],
   "source": [
    "#cd.search('acs5', 2015, 'concept', 'RENT BY YEAR STRUCTURE')\n",
    "cd.search('acs5', 2015, 'label', '\\ [R|r]ent\\ ')\n",
    "cd.censustable('acs1', 2015, 'B25111')\n",
    "# possible of future interest: table B25113, Median Gross Rent by Year Householder Moved Into Unit"
   ]
  },
  {
   "cell_type": "markdown",
   "metadata": {},
   "source": [
    "## No, have to go to decade built and get geography at the PUMA level \n",
    "PUMAs are census geographics that nest within states or equivalent entities and contain at least 100,000 people\n",
    "\n",
    "Identifiability is always a concern with census data"
   ]
  },
  {
   "cell_type": "code",
   "execution_count": 1162,
   "metadata": {},
   "outputs": [],
   "source": [
    "ca_df = cd.download('acs5', 2016, cd.censusgeo([('state', '06'), ('public use microdata area', \"*\")]), ['B25111_007E']) #1960 - 1969\n",
    "ca_df.columns = ['1960-1969']\n",
    "\n",
    "ca_df['1970-1979'] = cd.download('acs5', 2016, cd.censusgeo([('state', '06'), ('public use microdata area', \"*\")]), ['B25111_006E'])\n",
    "ca_df['1980-1989'] = cd.download('acs5', 2016, cd.censusgeo([('state', '06'), ('public use microdata area', \"*\")]), ['B25111_005E'])\n",
    "ca_df['1990-1999'] = cd.download('acs5', 2016, cd.censusgeo([('state', '06'), ('public use microdata area', \"*\")]), ['B25111_004E'])\n",
    "ca_df['2000-2009'] = cd.download('acs5', 2016, cd.censusgeo([('state', '06'), ('public use microdata area', \"*\")]), ['B25111_003E'])\n",
    "ca_df['2010-    '] = cd.download('acs5', 2016, cd.censusgeo([('state', '06'), ('public use microdata area', \"*\")]), ['B25111_002E'])"
   ]
  },
  {
   "cell_type": "markdown",
   "metadata": {},
   "source": [
    "# III. Visualize\n"
   ]
  },
  {
   "cell_type": "code",
   "execution_count": 1163,
   "metadata": {},
   "outputs": [],
   "source": [
    "import geopandas\n",
    "import bokeh\n",
    "from bokeh.plotting import figure, save\n",
    "from bokeh.sampledata.us_states import data as states\n",
    "from bokeh.io import show"
   ]
  },
  {
   "cell_type": "markdown",
   "metadata": {},
   "source": [
    "## Get PUMA shape files\n",
    "\n",
    "source: https://www.census.gov/geo/maps-data/data/cbf/cbf_puma.html\n",
    "\n",
    "Follow plotting guides here: https://automating-gis-processes.github.io/2016/Lesson5-interactive-map-bokeh.html\n",
    "and: http://bokeh.pydata.org/en/latest/docs/gallery/texas.html#gallery-texas"
   ]
  },
  {
   "cell_type": "code",
   "execution_count": 1186,
   "metadata": {},
   "outputs": [],
   "source": [
    "# File path\n",
    "ca_pumas_fp = r\"/Users/janecarlen/Documents/DSI/proposition_fest/cb_2016_06_puma10_500k/cb_2016_06_puma10_500k.shp\"\n",
    "ca_poly = geopandas.read_file(ca_pumas_fp)\n",
    "\n",
    "# Get state too\n",
    "# https://data.ca.gov/dataset/ca-geographic-boundaries\n",
    "ca_state_fp = r\"/Users/janecarlen/Documents/DSI/proposition_fest/CA_State/CA_State_TIGER2016.shp\"\n",
    "ca_state_poly = geopandas.read_file(ca_state_fp)"
   ]
  },
  {
   "cell_type": "code",
   "execution_count": 1187,
   "metadata": {},
   "outputs": [],
   "source": [
    "## Basic plot with matplotlib\n",
    "## import matplotlib\n",
    "## tmp = ca_poly.plot(cmap='Set2', figsize = (10,10))"
   ]
  },
  {
   "cell_type": "markdown",
   "metadata": {},
   "source": [
    "## Prepare for bokeh"
   ]
  },
  {
   "cell_type": "code",
   "execution_count": 1188,
   "metadata": {
    "scrolled": true
   },
   "outputs": [],
   "source": [
    "# https://automating-gis-processes.github.io/2016/Lesson5-interactive-map-bokeh.html\n",
    "def getPolyCoords_convex(row, geom, coord_type):\n",
    "    \"\"\"Returns the coordinates ('x' or 'y') of edges of a Polygon exterior\"\"\"\n",
    "    exterior = row[geom].convex_hull.exterior #had to add convex hull for non-continguous cases\n",
    "    if coord_type == 'x':\n",
    "        return list( exterior.coords.xy[0] )\n",
    "    elif coord_type == 'y':\n",
    "        return list( exterior.coords.xy[1] )\n",
    "\n",
    "#error when boundary is not contiguous    \n",
    "ca_poly['x'] = ca_poly.apply(getPolyCoords_convex, geom='geometry', coord_type='x', axis=1)\n",
    "ca_poly['y'] = ca_poly.apply(getPolyCoords_convex, geom='geometry', coord_type='y', axis=1)"
   ]
  },
  {
   "cell_type": "code",
   "execution_count": 1189,
   "metadata": {
    "scrolled": true
   },
   "outputs": [],
   "source": [
    "#https://automating-gis-processes.github.io/2017/lessons/L5/advanced-bokeh.html\n",
    "\n",
    "def getXYCoords(geometry, coord_type):\n",
    "    \"\"\" Returns either x or y coordinates from  geometry coordinate sequence. Used with LineString and Polygon geometries.\"\"\"\n",
    "    if coord_type == 'x':\n",
    "        return geometry.coords.xy[0]\n",
    "    elif coord_type == 'y':\n",
    "        return geometry.coords.xy[1]\n",
    "\n",
    "def getPolyCoords(geometry, coord_type):\n",
    "    \"\"\" Returns Coordinates of Polygon using the Exterior of the Polygon.\"\"\"\n",
    "    ext = geometry.exterior\n",
    "    return getXYCoords(ext, coord_type)\n",
    "\n",
    "def getLineCoords(geometry, coord_type):\n",
    "    \"\"\" Returns Coordinates of Linestring object.\"\"\"\n",
    "    return getXYCoords(geometry, coord_type)\n",
    "\n",
    "def getPointCoords(geometry, coord_type):\n",
    "    \"\"\" Returns Coordinates of Point object.\"\"\"\n",
    "    if coord_type == 'x':\n",
    "        return geometry.x\n",
    "    elif coord_type == 'y':\n",
    "        return geometry.y\n",
    "\n",
    "def multiGeomHandler(multi_geometry, coord_type, geom_type):\n",
    "    \"\"\"\n",
    "    Function for handling multi-geometries. Can be MultiPoint, MultiLineString or MultiPolygon.\n",
    "    Returns a list of coordinates where all parts of Multi-geometries are merged into a single list.\n",
    "    Individual geometries are separated with np.nan which is how Bokeh wants them.\n",
    "    # Bokeh documentation regarding the Multi-geometry issues can be found here (it is an open issue)\n",
    "    # https://github.com/bokeh/bokeh/issues/2321\n",
    "    \"\"\"\n",
    "\n",
    "    for i, part in enumerate(multi_geometry):\n",
    "        # On the first part of the Multi-geometry initialize the coord_array (np.array)\n",
    "        if i == 0:\n",
    "            if geom_type == \"MultiPoint\":\n",
    "                coord_arrays = np.append(getPointCoords(part, coord_type), np.nan)\n",
    "            elif geom_type == \"MultiLineString\":\n",
    "                coord_arrays = np.append(getLineCoords(part, coord_type), np.nan)\n",
    "            elif geom_type == \"MultiPolygon\":\n",
    "                coord_arrays = np.append(getPolyCoords(part, coord_type), np.nan)\n",
    "        else:\n",
    "            if geom_type == \"MultiPoint\":\n",
    "                coord_arrays = np.concatenate([coord_arrays, np.append(getPointCoords(part, coord_type), np.nan)])\n",
    "            elif geom_type == \"MultiLineString\":\n",
    "                coord_arrays = np.concatenate([coord_arrays, np.append(getLineCoords(part, coord_type), np.nan)])\n",
    "            elif geom_type == \"MultiPolygon\":\n",
    "                coord_arrays = np.concatenate([coord_arrays, np.append(getPolyCoords(part, coord_type), np.nan)])\n",
    "\n",
    "    # Return the coordinates\n",
    "    return coord_arrays\n",
    "\n",
    "\n",
    "def getCoords(row, geom_col, coord_type):\n",
    "    \"\"\"\n",
    "    Returns coordinates ('x' or 'y') of a geometry (Point, LineString or Polygon) as a list (if geometry is LineString or Polygon).\n",
    "    Can handle also MultiGeometries.\n",
    "    \"\"\"\n",
    "    # Get geometry\n",
    "    geom = row[geom_col]\n",
    "\n",
    "    # Check the geometry type\n",
    "    gtype = geom.geom_type\n",
    "\n",
    "    # \"Normal\" geometries\n",
    "    # -------------------\n",
    "\n",
    "    if gtype == \"Point\":\n",
    "        return getPointCoords(geom, coord_type)\n",
    "    elif gtype == \"LineString\":\n",
    "        return list( getLineCoords(geom, coord_type) )\n",
    "    elif gtype == \"Polygon\":\n",
    "        return list( getPolyCoords(geom, coord_type) )"
   ]
  },
  {
   "cell_type": "code",
   "execution_count": 1190,
   "metadata": {},
   "outputs": [
    {
     "data": {
      "text/html": [
       "<div>\n",
       "<style scoped>\n",
       "    .dataframe tbody tr th:only-of-type {\n",
       "        vertical-align: middle;\n",
       "    }\n",
       "\n",
       "    .dataframe tbody tr th {\n",
       "        vertical-align: top;\n",
       "    }\n",
       "\n",
       "    .dataframe thead th {\n",
       "        text-align: right;\n",
       "    }\n",
       "</style>\n",
       "<table border=\"1\" class=\"dataframe\">\n",
       "  <thead>\n",
       "    <tr style=\"text-align: right;\">\n",
       "      <th></th>\n",
       "      <th>STATEFP10</th>\n",
       "      <th>PUMACE10</th>\n",
       "      <th>AFFGEOID10</th>\n",
       "      <th>GEOID10</th>\n",
       "      <th>NAME10</th>\n",
       "      <th>LSAD10</th>\n",
       "      <th>ALAND10</th>\n",
       "      <th>AWATER10</th>\n",
       "      <th>geometry</th>\n",
       "      <th>x</th>\n",
       "      <th>y</th>\n",
       "    </tr>\n",
       "  </thead>\n",
       "  <tbody>\n",
       "    <tr>\n",
       "      <th>0</th>\n",
       "      <td>06</td>\n",
       "      <td>01907</td>\n",
       "      <td>7950000US0601907</td>\n",
       "      <td>0601907</td>\n",
       "      <td>Fresno County (East)--Sanger, Reedley &amp; Parlie...</td>\n",
       "      <td>P0</td>\n",
       "      <td>7647644973</td>\n",
       "      <td>117294872</td>\n",
       "      <td>POLYGON ((-119.745652 36.938998, -119.743741 3...</td>\n",
       "      <td>[-119.745652, -119.743741, -119.742119, -119.7...</td>\n",
       "      <td>[36.938998, 36.941095, 36.943537, 36.944345, 3...</td>\n",
       "    </tr>\n",
       "    <tr>\n",
       "      <th>1</th>\n",
       "      <td>06</td>\n",
       "      <td>00702</td>\n",
       "      <td>7950000US0600702</td>\n",
       "      <td>0600702</td>\n",
       "      <td>Butte County (Southeast)--Oroville City &amp; Para...</td>\n",
       "      <td>P0</td>\n",
       "      <td>2918880948</td>\n",
       "      <td>94035819</td>\n",
       "      <td>POLYGON ((-121.908697 39.30799, -121.907403 39...</td>\n",
       "      <td>[-121.908697, -121.907403, -121.907227, -121.9...</td>\n",
       "      <td>[39.30799, 39.313092999999995, 39.315199, 39.3...</td>\n",
       "    </tr>\n",
       "  </tbody>\n",
       "</table>\n",
       "</div>"
      ],
      "text/plain": [
       "  STATEFP10 PUMACE10        AFFGEOID10  GEOID10                                             NAME10 LSAD10     ALAND10   AWATER10                                           geometry                                                  x                                                  y\n",
       "0        06    01907  7950000US0601907  0601907  Fresno County (East)--Sanger, Reedley & Parlie...     P0  7647644973  117294872  POLYGON ((-119.745652 36.938998, -119.743741 3...  [-119.745652, -119.743741, -119.742119, -119.7...  [36.938998, 36.941095, 36.943537, 36.944345, 3...\n",
       "1        06    00702  7950000US0600702  0600702  Butte County (Southeast)--Oroville City & Para...     P0  2918880948   94035819  POLYGON ((-121.908697 39.30799, -121.907403 39...  [-121.908697, -121.907403, -121.907227, -121.9...  [39.30799, 39.313092999999995, 39.315199, 39.3..."
      ]
     },
     "execution_count": 1190,
     "metadata": {},
     "output_type": "execute_result"
    }
   ],
   "source": [
    "ca_poly['x'] = ca_poly.apply(getCoords, geom_col = 'geometry', coord_type = 'x', axis = 1)\n",
    "ca_poly['y'] = ca_poly.apply(getCoords, geom_col = 'geometry', coord_type = 'y', axis = 1)\n",
    "ca_poly.head(2)\n",
    "ca_poly.fillna(value=pd.np.nan, inplace=True)\n",
    "ca_poly.head(2)"
   ]
  },
  {
   "cell_type": "code",
   "execution_count": 1213,
   "metadata": {},
   "outputs": [],
   "source": [
    "#make state outline\n",
    "#ca_state_poly['x'] = [ca_state_poly['geometry'][0].convex_hull.exterior.coords.xy[0]]\n",
    "#ca_state_poly['y'] = [ca_state_poly['geometry'][0].convex_hull.exterior.coords.xy[1]]\n",
    "#ca_state_poly\n"
   ]
  },
  {
   "cell_type": "code",
   "execution_count": 1170,
   "metadata": {},
   "outputs": [],
   "source": [
    "ca_puma_data = dict(\n",
    "    sixties = ca_df['1960-1969'].values,\n",
    "    seventies = ca_df['1970-1979'].values,\n",
    "    eighties = ca_df['1980-1989'].values,\n",
    "    nineties = ca_df['1990-1999'].values,\n",
    "    aughts = ca_df['2000-2009'].values,\n",
    "    tens = ca_df['2010-    '].values,\n",
    "    x = ca_poly['x'],\n",
    "    y = ca_poly['y'],\n",
    "    #median\n",
    ")\n",
    "\n",
    "ca_puma_df = pd.DataFrame(ca_puma_data)\n",
    "ca_puma_df.dropna(inplace=True)\n",
    "ca_puma_df.shape\n",
    "ca_puma_data2 = pd.DataFrame.to_dict(ca_puma_df, orient='list')\n"
   ]
  },
  {
   "cell_type": "code",
   "execution_count": 1171,
   "metadata": {},
   "outputs": [],
   "source": [
    "ca_puma_data2['built_90s_over_80s'] = np.divide(ca_puma_data2['nineties'], ca_puma_data2['eighties'])\n",
    "ca_puma_data2['built_80s_over_70s'] = np.divide(ca_puma_data2['eighties'], ca_puma_data2['seventies'])\n",
    "ca_puma_data2['built_70s_over_60s'] = np.divide(ca_puma_data2['seventies'], ca_puma_data2['sixties'])\n",
    "\n",
    "#ca_puma_data2['90_to_80s'] = ca_puma_data2['nineties']/ca_puma_data2['nineties']"
   ]
  },
  {
   "cell_type": "markdown",
   "metadata": {},
   "source": [
    "## Distribution of ratios of median rent by PUMA for houses built in the 90s vs. 80, 80s vs. 70s and 70s vs. 60?"
   ]
  },
  {
   "cell_type": "code",
   "execution_count": 1553,
   "metadata": {},
   "outputs": [
    {
     "data": {
      "text/plain": [
       "(array([ 7.,  9., 62., 85., 54., 21., 10.,  1.,  1.,  4.]),\n",
       " array([0.79756227, 0.86464904, 0.93173582, 0.9988226 , 1.06590937,\n",
       "        1.13299615, 1.20008293, 1.2671697 , 1.33425648, 1.40134326,\n",
       "        1.46843003]),\n",
       " <a list of 10 Patch objects>)"
      ]
     },
     "execution_count": 1553,
     "metadata": {},
     "output_type": "execute_result"
    },
    {
     "data": {
      "image/png": "[encoded data removed]",
      "text/plain": [
       "<Figure size 432x288 with 1 Axes>"
      ]
     },
     "metadata": {
      "needs_background": "light"
     },
     "output_type": "display_data"
    }
   ],
   "source": [
    "import matplotlib.pyplot as plt\n",
    "plt.hist(x=ca_puma_data2['built_80s_over_70s'], color = \"red\", alpha = .7)\n",
    "plt.hist(x=ca_puma_data2['built_70s_over_60s'], color = \"yellow\", alpha = .5)\n",
    "#plt.hist(x=ca_puma_data2['built_90s_over_80s'], color = \"blue\", alpha = .5)\n",
    "\n"
   ]
  },
  {
   "cell_type": "code",
   "execution_count": 1588,
   "metadata": {},
   "outputs": [],
   "source": [
    "from bokeh.models import LogColorMapper, ColorBar, LogTicker, BasicTicker, FixedTicker, FuncTickFormatter, LinearColorMapper\n",
    "from bokeh.palettes import RdBu7 as palette\n",
    "\n",
    "TOOLS = \"pan,wheel_zoom,reset,hover,save\"\n",
    "\n",
    "ca_map = figure(title = \"Ratio by PUMA of median rent for units built in 80s to units built in 70s\", tools = TOOLS,\n",
    "               tooltips = [],\n",
    "               plot_width=1000, plot_height=1000)\n",
    "color_mapper = LinearColorMapper(palette=palette, low=.7, high=1.5) #Dont' forget limits!\n",
    "ca_map.title.text_font_size = '16pt'\n",
    "\n",
    "ca_map.patches('x', 'y', source=ca_puma_data2,\n",
    "               fill_color= {'field': 'built_80s_over_70s', 'transform': color_mapper},\n",
    "               fill_alpha=0.7, \n",
    "               line_color=\"black\", \n",
    "               line_width=0.5)\n",
    "\n",
    "color_bar = ColorBar(color_mapper=color_mapper, ticker=BasicTicker(),\n",
    "                     label_standoff=6, border_line_color=None, location=(0,0))\n",
    "\n",
    "ca_map.add_layout(color_bar, 'right')"
   ]
  },
  {
   "cell_type": "code",
   "execution_count": 1589,
   "metadata": {},
   "outputs": [],
   "source": [
    "ca_outline = pd.DataFrame.from_dict(states['CA'])\n",
    "ca_map.line('lons', 'lats', source=ca_outline, line_color=\"black\")\n",
    "show(ca_map)"
   ]
  },
  {
   "cell_type": "markdown",
   "metadata": {},
   "source": [
    "## Add cities"
   ]
  },
  {
   "cell_type": "code",
   "execution_count": 1590,
   "metadata": {},
   "outputs": [],
   "source": [
    "from bokeh.models import HoverTool, Range1d\n",
    "from bokeh.palettes import RdGy5 as palette2\n",
    "\n",
    "color_mapper2 = LinearColorMapper(palette=palette2)\n",
    "#data source: https://simplemaps.com/data/us-cities.\n",
    "cities = pd.read_csv('/Users/janecarlen/Documents/DSI/proposition_fest/uscitiesv1.4.csv')\n",
    "cities = cities[cities['state_id']=='CA']\n",
    "\n",
    "#color by rent control\n",
    "tmp = cities['city']   \n",
    "rc = [\"Alameda\", \"Berkeley\", \"Beverly Hills\", \"East Palo Alto\", \"Hayward\", \"Los Angeles\", \"Los Gatos\", \"Mountain View\", \"Oakland\", \"Palm Springs\", \"Richmond\", \"San Francisco\", \"San Jose\", \"Santa Monica\", \"West Hollywood\"] \n",
    "cities['rent_control_l'] = [item in rc for item in tmp]\n",
    "cities['rent_control'] = [\"Rent Control\" if item in rc else \"No Rent Control\" for item in tmp]\n",
    "pd.crosstab(cities['rent_control'], 1)\n",
    "cities['plot_size'] = [5 + 8*(item in rc) for item in tmp]\n",
    "\n",
    "ca_map.circle(y='lat',x='lng', source=cities, alpha=0.7,\n",
    "             size = {'field': 'plot_size'},\n",
    "             color = {'field': 'rent_control_l', 'transform': color_mapper2},\n",
    "             legend='rent_control')\n",
    "\n",
    "city_hover = HoverTool()\n",
    "\n",
    "city_hover.tooltips = [(\"80s to 70s ratio\", \"@built_80s_over_70s\"), (\"city name\", '@city_ascii')]\n",
    "ca_map.add_tools(city_hover)\n",
    "show(ca_map)"
   ]
  },
  {
   "cell_type": "code",
   "execution_count": 1587,
   "metadata": {},
   "outputs": [
    {
     "data": {
      "text/html": [
       "<div>\n",
       "<style scoped>\n",
       "    .dataframe tbody tr th:only-of-type {\n",
       "        vertical-align: middle;\n",
       "    }\n",
       "\n",
       "    .dataframe tbody tr th {\n",
       "        vertical-align: top;\n",
       "    }\n",
       "\n",
       "    .dataframe thead th {\n",
       "        text-align: right;\n",
       "    }\n",
       "</style>\n",
       "<table border=\"1\" class=\"dataframe\">\n",
       "  <thead>\n",
       "    <tr style=\"text-align: right;\">\n",
       "      <th>col_0</th>\n",
       "      <th>1</th>\n",
       "    </tr>\n",
       "    <tr>\n",
       "      <th>rent_control</th>\n",
       "      <th></th>\n",
       "    </tr>\n",
       "  </thead>\n",
       "  <tbody>\n",
       "    <tr>\n",
       "      <th>No Rent Control</th>\n",
       "      <td>1610</td>\n",
       "    </tr>\n",
       "    <tr>\n",
       "      <th>Rent Control</th>\n",
       "      <td>15</td>\n",
       "    </tr>\n",
       "  </tbody>\n",
       "</table>\n",
       "</div>"
      ],
      "text/plain": [
       "col_0               1\n",
       "rent_control         \n",
       "No Rent Control  1610\n",
       "Rent Control       15"
      ]
     },
     "execution_count": 1587,
     "metadata": {},
     "output_type": "execute_result"
    }
   ],
   "source": [
    "pd.crosstab(cities['rent_control'], 1)"
   ]
  },
  {
   "cell_type": "code",
   "execution_count": null,
   "metadata": {},
   "outputs": [],
   "source": []
  },
  {
   "cell_type": "code",
   "execution_count": null,
   "metadata": {},
   "outputs": [],
   "source": []
  }
 ],
 "metadata": {
  "celltoolbar": "Raw Cell Format",
  "kernelspec": {
   "display_name": "Python 3",
   "language": "python",
   "name": "python3"
  },
  "language_info": {
   "codemirror_mode": {
    "name": "ipython",
    "version": 3
   },
   "file_extension": ".py",
   "mimetype": "text/x-python",
   "name": "python",
   "nbconvert_exporter": "python",
   "pygments_lexer": "ipython3",
   "version": "3.7.0"
  }
 },
 "nbformat": 4,
 "nbformat_minor": 2
}
